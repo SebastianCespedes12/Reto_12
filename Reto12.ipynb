{
 "cells": [
  {
   "cell_type": "markdown",
   "metadata": {},
   "source": [
    ">1.Consulte que hacen los siguientes métodos de strings en python: endswith, startswith, isalpha, isalnum, isdigit, isspace, istitle, islower, isupper."
   ]
  },
  {
   "cell_type": "markdown",
   "metadata": {},
   "source": [
    "endswith, comprueba si un string finaliza con ciertos caracteres de un string dado, retorna booleanos."
   ]
  },
  {
   "cell_type": "code",
   "execution_count": null,
   "metadata": {},
   "outputs": [],
   "source": [
    "str1= \"Me llamo Juan\"\n",
    "str1.endswith(\"Juan\") #True\n",
    "str1.endswith(\"Juan.\") #False"
   ]
  },
  {
   "cell_type": "markdown",
   "metadata": {},
   "source": [
    "startswith, comprueba si un string empieza con ciertos caracteres de un string dado, retorna booleanos"
   ]
  },
  {
   "cell_type": "code",
   "execution_count": null,
   "metadata": {},
   "outputs": [],
   "source": [
    "str2= \"Adios Juan\"\n",
    "str2.startswith(\"Adios\") #True\n",
    "str2.startswith(\"A\") #True\n",
    "str2.startswith(\"Adios,\") #False"
   ]
  },
  {
   "cell_type": "markdown",
   "metadata": {},
   "source": [
    "isalpha, comprueba si todos los caracteres de un string son letras, retorna booleanos"
   ]
  },
  {
   "cell_type": "code",
   "execution_count": null,
   "metadata": {},
   "outputs": [],
   "source": [
    "str3=\"Abcdefg\" \n",
    "str3.isalpha() #True\n",
    "\n",
    "str3=\"1Abcdefg\"\n",
    "str3.isalpha() #False"
   ]
  },
  {
   "cell_type": "markdown",
   "metadata": {},
   "source": [
    "isalnum, compureba si todos los caracteres de un string son alfanumericos, retorna booleanos"
   ]
  },
  {
   "cell_type": "code",
   "execution_count": null,
   "metadata": {},
   "outputs": [],
   "source": [
    "str4=\"Abc123\"\n",
    "str4.isalnum() #True\n",
    "\n",
    "str4=\"Abc 123\"\n",
    "str4.isalnum() #False"
   ]
  },
  {
   "cell_type": "markdown",
   "metadata": {},
   "source": [
    "isdigit, comprueba si todos los caracteres de un string son numeros, retorna booleanos."
   ]
  },
  {
   "cell_type": "code",
   "execution_count": null,
   "metadata": {},
   "outputs": [],
   "source": [
    "str5=\"123456\"\n",
    "str5.isdigit() #True\n",
    "\n",
    "str5=\"Ab123 \"\n",
    "str5.isdigit() #False"
   ]
  },
  {
   "cell_type": "markdown",
   "metadata": {},
   "source": [
    "isspace, comprueba si todos los caracteres de un string son espacios, retorna booleanos."
   ]
  },
  {
   "cell_type": "code",
   "execution_count": null,
   "metadata": {},
   "outputs": [],
   "source": [
    "str6=\"  \"\n",
    "str6.isspace() #True\n",
    "\n",
    "str6=\"  a\" \n",
    "str6.isspace() #False"
   ]
  },
  {
   "cell_type": "markdown",
   "metadata": {},
   "source": [
    "istitle, comprueba si todas las palabras estan capitalizadas, retorna booleanos."
   ]
  },
  {
   "cell_type": "code",
   "execution_count": null,
   "metadata": {},
   "outputs": [],
   "source": [
    "str7=\"Cien Años De Soledad\"\n",
    "str7.istitle() #True\n",
    "\n",
    "str7=\"Cien años de soledad\"\n",
    "str7.istitle() #False"
   ]
  },
  {
   "cell_type": "markdown",
   "metadata": {},
   "source": [
    "islower,comprueba si todos los caracteres estan en minuscula, retorna booleanos."
   ]
  },
  {
   "cell_type": "code",
   "execution_count": null,
   "metadata": {},
   "outputs": [],
   "source": [
    "str8=\"1abc \"\n",
    "str8.islower() #True\n",
    "\n",
    "str8=\"1Abc \"\n",
    "str8.islower() #False"
   ]
  },
  {
   "cell_type": "markdown",
   "metadata": {},
   "source": [
    "isupper, comprueba si todos los caracteres estan en mayuscula."
   ]
  },
  {
   "cell_type": "code",
   "execution_count": null,
   "metadata": {},
   "outputs": [],
   "source": [
    "str9=\"123ABCD \"\n",
    "str9.isupper() #True\n",
    "\n",
    "str9=\"abc123 \"\n",
    "str9.isupper() #False "
   ]
  },
  {
   "cell_type": "markdown",
   "metadata": {},
   "source": [
    ">2.Procesar el archivo y extraer.Cantidad de vocales, Cantidad de consonantes, Listado de las 50 palabras que más se repiten"
   ]
  },
  {
   "cell_type": "markdown",
   "metadata": {},
   "source": [
    ">Cantidad de vocales y consonantes"
   ]
  },
  {
   "cell_type": "code",
   "execution_count": null,
   "metadata": {},
   "outputs": [],
   "source": [
    "archivo= open(\"mbox.txt\", \"r\")\n",
    "txt= archivo.read()\n",
    "\n",
    "sum_vocal=0\n",
    "sum_letras=0\n",
    "\n",
    "for i in range(65,123):\n",
    "  if i== 65 or i == 69 or i==73 or i==79 or i==85 or i ==97 or i ==101 or i==105 or i==111 or i==117 : #Si el valor ASCII es una vocal\n",
    "    sum_vocal+= txt.count(chr(i)) #Se suma la cantidad de veces que aparece cada vocal\n",
    "  elif i>=65 and i<=90 or i>=97 and i<=122: #Si el valor ASCII es una letra\n",
    "    sum_letras+= txt.count(chr(i)) #Se suma la cantidad de veces que aparece cada letra\n",
    "consonantes= sum_letras-sum_vocal #Se restan las vocales de las letras para obtener las consonantes\n",
    "\n",
    "print(f\"Vocales: {sum_vocal}\")\n",
    "print(f\"Consonantes: {consonantes}\")\n"
   ]
  },
  {
   "cell_type": "markdown",
   "metadata": {},
   "source": [
    "Listado de 50 palabras."
   ]
  },
  {
   "cell_type": "code",
   "execution_count": null,
   "metadata": {},
   "outputs": [],
   "source": [
    "archivo= open(\"mbox.txt\", \"r\") #Se abre el archivo\n",
    "txt = archivo.read().lower() #Se convierte el texto a minúsculas para que no haya distinción entre mayúsculas y minúsculas\n",
    "for char in \"0123456789-_()[],.:!#$%&+-/=¿?<>¡@\": #Se recorren los caracteres especiales\n",
    "  txt= txt.replace(char, \" \") #Se remplazan los caracteres especiales por espacios\n",
    "\n",
    "palabras= txt.split() #Se separan las palabras por espacios\n",
    "cont_palabr = [] #Se crea una lista vacía\n",
    "for i in palabras: #Se recorren la lista de palabras\n",
    "  encontrado:bool = False #Se inicializa la variable encontrado en falso\n",
    "  for j in range(len(cont_palabr)): #Se recorre la lista de palabras contadas\n",
    "    if i == cont_palabr[j][0]: #Si la palabra ya está en la lista de palabras contadas\n",
    "      cont_palabr[j] = (cont_palabr[j][0], cont_palabr[j][1] + 1) #Se aumenta el contador de la palabra\n",
    "      encontrado = True #Se cambia la variable encontrado a verdadero\n",
    "      break #Se rompe el ciclo\n",
    "  if not encontrado: #Si la palabra no está en la lista de palabras contadas  \n",
    "    cont_palabr.append((i, 1))#Se agrega en una tupla la palabra y la primera vez que aparece\n",
    "        \n",
    "cont_palabr.sort(key=lambda x: x[1], reverse=True)  # Ordenar la lista por frecuencia en orden descendente\n",
    "top_50 = cont_palabr[:50]  # Obtener los 50 primeros\n",
    "\n",
    "# Imprimir las 50 palabras más frecuentes\n",
    "for palabra, frecuencia in top_50: #Se recorren las 50 palabras más frecuentes\n",
    "    print(f\"{palabra}: {frecuencia}\") #Se imprime la palabra y la cantidad de veces que aparece"
   ]
  }
 ],
 "metadata": {
  "kernelspec": {
   "display_name": "Python 3",
   "language": "python",
   "name": "python3"
  },
  "language_info": {
   "codemirror_mode": {
    "name": "ipython",
    "version": 3
   },
   "file_extension": ".py",
   "mimetype": "text/x-python",
   "name": "python",
   "nbconvert_exporter": "python",
   "pygments_lexer": "ipython3",
   "version": "3.11.9"
  }
 },
 "nbformat": 4,
 "nbformat_minor": 2
}
